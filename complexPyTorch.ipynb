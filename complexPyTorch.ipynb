{
 "cells": [
  {
   "cell_type": "markdown",
   "metadata": {},
   "source": [
    "## Complex Valued Networks with PyTorch\n",
    "\n",
    "Artificial neural networks are mainly used for treating data encoded in real values, such as numerized images or sounds.\n",
    "In such systems, using complex valued tensor would be quite useless. \n",
    "However, for physic related topics, in particular when dealing with wave propagation, using complex values is interesiting as the physics typically has linear, hence more simple, behahiour when considering complex fields. \n",
    "complexPyTorch is a simple implementation of complex valued functions and modules using the high-level API of PyTorch. \n",
    "Follwing operations proposed in [[C. Trabelsi et al., International Conference on Learning Representations, (2018)](https://openreview.net/forum?id=H1T2hmZAb Deep Complex Networks)], it allows the following layers and functions to be used with complex values:\n",
    "\n",
    "\n",
    "To implement complex valued networks for physics applications, I rewrote, \n",
    "\n",
    "\n",
    "\n"
   ]
  },
  {
   "cell_type": "code",
   "execution_count": null,
   "metadata": {},
   "outputs": [],
   "source": []
  }
 ],
 "metadata": {
  "kernelspec": {
   "display_name": "Python 3",
   "language": "python",
   "name": "python3"
  },
  "language_info": {
   "codemirror_mode": {
    "name": "ipython",
    "version": 3
   },
   "file_extension": ".py",
   "mimetype": "text/x-python",
   "name": "python",
   "nbconvert_exporter": "python",
   "pygments_lexer": "ipython3",
   "version": "3.6.8"
  }
 },
 "nbformat": 4,
 "nbformat_minor": 2
}
